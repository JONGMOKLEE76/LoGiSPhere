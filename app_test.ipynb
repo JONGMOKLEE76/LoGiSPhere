{
 "cells": [
  {
   "cell_type": "code",
   "execution_count": 65,
   "id": "0ce405f7",
   "metadata": {},
   "outputs": [
    {
     "data": {
      "text/plain": [
       "True"
      ]
     },
     "execution_count": 65,
     "metadata": {},
     "output_type": "execute_result"
    }
   ],
   "source": [
    "import psycopg2\n",
    "import os\n",
    "from dotenv import load_dotenv\n",
    "from psycopg2.extras import RealDictCursor\n",
    "from datetime import datetime, timedelta\n",
    "from app import convert_date_to_week_format, get_db_connection, process_shipping_plans_carry_over\n",
    "\n",
    "# .env 파일에서 환경 변수 로드\n",
    "load_dotenv()"
   ]
  },
  {
   "cell_type": "code",
   "execution_count": 56,
   "id": "5f27f287",
   "metadata": {},
   "outputs": [],
   "source": [
    "supplier_filter = 'MOKA'\n",
    "to_site_filter = 'ECHK'\n",
    "week_from = convert_date_to_week_format(datetime.now())\n",
    "week_to = convert_date_to_week_format(datetime.now() + timedelta(weeks=4))"
   ]
  },
  {
   "cell_type": "code",
   "execution_count": 57,
   "id": "24db562e",
   "metadata": {},
   "outputs": [],
   "source": [
    "sp_conditions = [\"is_deleted = FALSE\"]\n",
    "sp_params = []"
   ]
  },
  {
   "cell_type": "code",
   "execution_count": 58,
   "id": "d1c0369f",
   "metadata": {},
   "outputs": [],
   "source": [
    "if supplier_filter:\n",
    "    sp_conditions.append(\"from_site = %s\")\n",
    "    sp_params.append(supplier_filter)\n",
    "if to_site_filter:\n",
    "    sp_conditions.append(\"to_site ILIKE %s\")\n",
    "    sp_params.append(f\"%{to_site_filter}%\")\n",
    "if week_from and week_to:\n",
    "    sp_conditions.append(\"\"\"(\n",
    "        (shipping_week >= %s AND shipping_week <= %s AND is_finished = FALSE)\n",
    "        OR (shipping_week < %s AND is_finished = FALSE)\n",
    "    )\"\"\")\n",
    "    sp_params.extend([week_from, week_to, week_from])\n",
    "else:\n",
    "    sp_conditions.append(\"is_finished = FALSE\")\n",
    "sp_where_clause = \" AND \".join(sp_conditions)"
   ]
  },
  {
   "cell_type": "code",
   "execution_count": 59,
   "id": "3355234a",
   "metadata": {},
   "outputs": [],
   "source": [
    "conn = get_db_connection()\n",
    "cursor = conn.cursor()\n",
    "cursor.execute(f'''\n",
    "            SELECT * FROM shipping_plans\n",
    "            WHERE {sp_where_clause}\n",
    "            ORDER BY id DESC\n",
    "        ''', sp_params)\n",
    "plans = cursor.fetchall()"
   ]
  },
  {
   "cell_type": "code",
   "execution_count": 60,
   "id": "2195b34d",
   "metadata": {},
   "outputs": [],
   "source": [
    "po_conditions = [\"status = 'Active'\"]\n",
    "po_params = []\n",
    "if supplier_filter:\n",
    "    po_conditions.append(\"from_site = %s\")\n",
    "    po_params.append(supplier_filter)\n",
    "if to_site_filter:\n",
    "    po_conditions.append(\"to_site ILIKE %s\")\n",
    "    po_params.append(f\"%{to_site_filter}%\")\n",
    "week_from_date = week_from[:10] if week_from else ''\n",
    "week_to_date = week_to[:10] if week_to else ''\n",
    "if week_from and week_to:\n",
    "    po_conditions.append(\"\"\"(\n",
    "        (rsd >= %s AND rsd <= %s AND is_finished = FALSE)\n",
    "        OR (rsd < %s AND is_finished = FALSE)\n",
    "    )\"\"\")\n",
    "    po_params.extend([week_from_date, week_to_date, week_from_date])\n",
    "elif week_from:\n",
    "    po_conditions.append(\"\"\"(\n",
    "        rsd >= %s AND is_finished = FALSE\n",
    "        OR (rsd < %s AND is_finished = FALSE)\n",
    "    )\"\"\")\n",
    "    po_params.extend([week_from_date, week_from_date])\n",
    "elif week_to:\n",
    "    po_conditions.append(\"rsd <= %s AND is_finished = FALSE\")\n",
    "    po_params.append(week_to_date)\n",
    "else:\n",
    "    po_conditions.append(\"is_finished = FALSE\")\n",
    "po_where_clause = \" AND \".join(po_conditions)\n",
    "cursor.execute(f'''\n",
    "    SELECT po_number, from_site, to_site, model, po_qty, rsd FROM purchase_orders\n",
    "    WHERE {po_where_clause}\n",
    "    ORDER BY id DESC\n",
    "''', po_params)\n",
    "po_rows = cursor.fetchall()"
   ]
  },
  {
   "cell_type": "code",
   "execution_count": 66,
   "id": "6ccd793a",
   "metadata": {},
   "outputs": [],
   "source": [
    "default_weekname = convert_date_to_week_format(datetime.now())"
   ]
  },
  {
   "cell_type": "code",
   "execution_count": 68,
   "id": "3cfbb668",
   "metadata": {},
   "outputs": [
    {
     "data": {
      "text/plain": [
       "[RealDictRow([('id', 9),\n",
       "              ('from_site', 'MOKA'),\n",
       "              ('to_site', 'ECHK'),\n",
       "              ('model_name', '34G630A-B.AHKQ'),\n",
       "              ('shipping_week', '2025-10-27(W44)'),\n",
       "              ('shipping_quantity', 140),\n",
       "              ('shipped_quantity', 0),\n",
       "              ('is_finished', False),\n",
       "              ('remark', ''),\n",
       "              ('created_at',\n",
       "               datetime.datetime(2025, 10, 22, 17, 42, 38, 978894, tzinfo=datetime.timezone.utc)),\n",
       "              ('updated_at',\n",
       "               datetime.datetime(2025, 10, 22, 17, 42, 38, 978894, tzinfo=datetime.timezone.utc)),\n",
       "              ('is_deleted', False),\n",
       "              ('original_shipping_week', '2025-10-20(W43)')])]"
      ]
     },
     "execution_count": 68,
     "metadata": {},
     "output_type": "execute_result"
    }
   ],
   "source": [
    "process_shipping_plans_carry_over(plans, default_weekname)"
   ]
  },
  {
   "cell_type": "code",
   "execution_count": 62,
   "id": "eef45aab",
   "metadata": {},
   "outputs": [
    {
     "data": {
      "text/plain": [
       "[RealDictRow([('po_number', 'JGMZ25025676'),\n",
       "              ('from_site', 'MOKA'),\n",
       "              ('to_site', 'ECHK'),\n",
       "              ('model', '34G630A-B.AHKQ'),\n",
       "              ('po_qty', 9),\n",
       "              ('rsd', datetime.date(2025, 10, 26))]),\n",
       " RealDictRow([('po_number', 'JGMZ25025042'),\n",
       "              ('from_site', 'MOKA'),\n",
       "              ('to_site', 'ECHK'),\n",
       "              ('model', '34G630A-B.AHKQ'),\n",
       "              ('po_qty', 131),\n",
       "              ('rsd', datetime.date(2025, 10, 26))])]"
      ]
     },
     "execution_count": 62,
     "metadata": {},
     "output_type": "execute_result"
    }
   ],
   "source": [
    "po_rows"
   ]
  },
  {
   "cell_type": "code",
   "execution_count": 63,
   "id": "87d64acc",
   "metadata": {},
   "outputs": [],
   "source": [
    "po_map = {}\n",
    "for po in po_rows:\n",
    "    weekname = convert_date_to_week_format(po['rsd']) if po['rsd'] else ''\n",
    "    key = (po['from_site'], po['to_site'], po['model'], weekname)\n",
    "    po_map[key] = po"
   ]
  },
  {
   "cell_type": "code",
   "execution_count": 64,
   "id": "0d5b2b20",
   "metadata": {},
   "outputs": [
    {
     "data": {
      "text/plain": [
       "{('MOKA',\n",
       "  'ECHK',\n",
       "  '34G630A-B.AHKQ',\n",
       "  '2025-10-20(W43)'): RealDictRow([('po_number', 'JGMZ25025042'),\n",
       "              ('from_site', 'MOKA'),\n",
       "              ('to_site', 'ECHK'),\n",
       "              ('model', '34G630A-B.AHKQ'),\n",
       "              ('po_qty', 131),\n",
       "              ('rsd', datetime.date(2025, 10, 26))])}"
      ]
     },
     "execution_count": 64,
     "metadata": {},
     "output_type": "execute_result"
    }
   ],
   "source": [
    "po_map"
   ]
  },
  {
   "cell_type": "code",
   "execution_count": null,
   "id": "4e93accc",
   "metadata": {},
   "outputs": [],
   "source": []
  }
 ],
 "metadata": {
  "kernelspec": {
   "display_name": "venv",
   "language": "python",
   "name": "python3"
  },
  "language_info": {
   "codemirror_mode": {
    "name": "ipython",
    "version": 3
   },
   "file_extension": ".py",
   "mimetype": "text/x-python",
   "name": "python",
   "nbconvert_exporter": "python",
   "pygments_lexer": "ipython3",
   "version": "3.12.7"
  }
 },
 "nbformat": 4,
 "nbformat_minor": 5
}

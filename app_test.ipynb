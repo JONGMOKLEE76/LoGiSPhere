{
 "cells": [
  {
   "cell_type": "code",
   "execution_count": 14,
   "id": "0ce405f7",
   "metadata": {},
   "outputs": [
    {
     "data": {
      "text/plain": [
       "True"
      ]
     },
     "execution_count": 14,
     "metadata": {},
     "output_type": "execute_result"
    }
   ],
   "source": [
    "import psycopg2\n",
    "import os\n",
    "from dotenv import load_dotenv\n",
    "from psycopg2.extras import RealDictCursor\n",
    "from datetime import datetime, timedelta\n",
    "from app import convert_date_to_week_format, get_db_connection\n",
    "\n",
    "# .env 파일에서 환경 변수 로드\n",
    "load_dotenv()"
   ]
  },
  {
   "cell_type": "code",
   "execution_count": null,
   "id": "cd2139e9",
   "metadata": {},
   "outputs": [
    {
     "data": {
      "text/plain": [
       "<connection object at 0x0000021358EDE130; dsn: 'user=postgres.cctepydjljbpcvvydixp password=xxx dbname=postgres host=aws-1-ap-southeast-1.pooler.supabase.com port=6543 sslmode=require', closed: 0>"
      ]
     },
     "execution_count": 15,
     "metadata": {},
     "output_type": "execute_result"
    }
   ],
   "source": []
  },
  {
   "cell_type": "code",
   "execution_count": null,
   "id": "5f27f287",
   "metadata": {},
   "outputs": [],
   "source": [
    "supplier_filter = 'MOKA'\n",
    "to_site_filter = 'EACM'\n",
    "week_from = request.args.get('week_from', default_weekname)\n",
    "week_to = request.args.get('week_to', default_weekname_to)"
   ]
  }
 ],
 "metadata": {
  "kernelspec": {
   "display_name": "venv",
   "language": "python",
   "name": "python3"
  },
  "language_info": {
   "codemirror_mode": {
    "name": "ipython",
    "version": 3
   },
   "file_extension": ".py",
   "mimetype": "text/x-python",
   "name": "python",
   "nbconvert_exporter": "python",
   "pygments_lexer": "ipython3",
   "version": "3.12.7"
  }
 },
 "nbformat": 4,
 "nbformat_minor": 5
}
